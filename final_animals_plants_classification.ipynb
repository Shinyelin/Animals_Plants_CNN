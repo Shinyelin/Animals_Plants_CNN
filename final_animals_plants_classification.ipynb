{
  "nbformat": 4,
  "nbformat_minor": 0,
  "metadata": {
    "colab": {
      "name": "final_animals_plants_classification.ipynb",
      "provenance": [],
      "collapsed_sections": [],
      "toc_visible": true
    },
    "kernelspec": {
      "name": "python3",
      "display_name": "Python 3"
    },
    "accelerator": "GPU"
  },
  "cells": [
    {
      "cell_type": "markdown",
      "metadata": {
        "id": "_9r_OcsJOFnv",
        "colab_type": "text"
      },
      "source": [
        "# 동식물 구별"
      ]
    },
    {
      "cell_type": "markdown",
      "metadata": {
        "id": "FE1TXvshOWvs",
        "colab_type": "text"
      },
      "source": [
        "-np.load 함수 사용을 위해 numpy 버전을 1.16.1로 함"
      ]
    },
    {
      "cell_type": "code",
      "metadata": {
        "id": "U-A_r-zH4Tl0",
        "colab_type": "code",
        "colab": {
          "base_uri": "https://localhost:8080/",
          "height": 288
        },
        "outputId": "6bbab535-2150-4910-baac-b5bcd1275f66"
      },
      "source": [
        "! pip install numpy==1.16.1"
      ],
      "execution_count": null,
      "outputs": [
        {
          "output_type": "stream",
          "text": [
            "Collecting numpy==1.16.1\n",
            "\u001b[?25l  Downloading https://files.pythonhosted.org/packages/f5/bf/4981bcbee43934f0adb8f764a1e70ab0ee5a448f6505bd04a87a2fda2a8b/numpy-1.16.1-cp36-cp36m-manylinux1_x86_64.whl (17.3MB)\n",
            "\u001b[K     |████████████████████████████████| 17.3MB 172kB/s \n",
            "\u001b[31mERROR: datascience 0.10.6 has requirement folium==0.2.1, but you'll have folium 0.8.3 which is incompatible.\u001b[0m\n",
            "\u001b[31mERROR: albumentations 0.1.12 has requirement imgaug<0.2.7,>=0.2.5, but you'll have imgaug 0.2.9 which is incompatible.\u001b[0m\n",
            "\u001b[?25hInstalling collected packages: numpy\n",
            "  Found existing installation: numpy 1.17.5\n",
            "    Uninstalling numpy-1.17.5:\n",
            "      Successfully uninstalled numpy-1.17.5\n",
            "Successfully installed numpy-1.16.1\n"
          ],
          "name": "stdout"
        },
        {
          "output_type": "display_data",
          "data": {
            "application/vnd.colab-display-data+json": {
              "pip_warning": {
                "packages": [
                  "numpy"
                ]
              }
            }
          },
          "metadata": {
            "tags": []
          }
        }
      ]
    },
    {
      "cell_type": "code",
      "metadata": {
        "id": "_990bXgKsD3g",
        "colab_type": "code",
        "colab": {
          "base_uri": "https://localhost:8080/",
          "height": 127
        },
        "outputId": "6e72902b-0969-4fb4-de03-3db1d00d2d96"
      },
      "source": [
        "from google.colab import drive\n",
        "drive.mount('/content/drive')"
      ],
      "execution_count": null,
      "outputs": [
        {
          "output_type": "stream",
          "text": [
            "Go to this URL in a browser: https://accounts.google.com/o/oauth2/auth?client_id=947318989803-6bn6qk8qdgf4n4g3pfee6491hc0brc4i.apps.googleusercontent.com&redirect_uri=urn%3aietf%3awg%3aoauth%3a2.0%3aoob&response_type=code&scope=email%20https%3a%2f%2fwww.googleapis.com%2fauth%2fdocs.test%20https%3a%2f%2fwww.googleapis.com%2fauth%2fdrive%20https%3a%2f%2fwww.googleapis.com%2fauth%2fdrive.photos.readonly%20https%3a%2f%2fwww.googleapis.com%2fauth%2fpeopleapi.readonly\n",
            "\n",
            "Enter your authorization code:\n",
            "··········\n",
            "Mounted at /content/drive\n"
          ],
          "name": "stdout"
        }
      ]
    },
    {
      "cell_type": "code",
      "metadata": {
        "id": "woAw4OfQgpcK",
        "colab_type": "code",
        "colab": {
          "base_uri": "https://localhost:8080/",
          "height": 107
        },
        "outputId": "6aa0eae7-5f9e-4b69-c235-f4b4620cf2b3"
      },
      "source": [
        "from PIL import Image\n",
        "import os, glob, numpy as np\n",
        "from sklearn.model_selection import train_test_split\n",
        "\n",
        "caltech_dir_ap = \"/content/drive/My Drive/multi_img_data/imgs_others/train\"\n",
        "categories_ap = [\"animals\",\"plants\"]\n",
        "nb_classes_ap = len(categories_ap)\n",
        "\n",
        "image_w_ap = 64\n",
        "image_h_ap = 64\n",
        "\n",
        "pixels_ap = image_h_ap * image_w_ap * 3\n",
        "\n",
        "X_ap = []\n",
        "y_ap = []\n",
        "\n",
        "for idx, cat_ap in enumerate(categories_ap):\n",
        "    \n",
        "    #one-hot 돌리기.\n",
        "    label_ap = [0 for i in range(nb_classes_ap)]\n",
        "    label_ap[idx] = 1\n",
        "\n",
        "    image_dir_ap = caltech_dir_ap + \"/\" + cat_ap\n",
        "    files_ap = glob.glob(image_dir_ap+\"/*.jpg\")\n",
        "    print(cat_ap, \" 파일 길이 : \", len(files_ap))\n",
        "    for i, f_ap in enumerate(files_ap):\n",
        "        img_ap = Image.open(f_ap)\n",
        "        img_ap = img_ap.convert(\"RGB\")\n",
        "        img_ap= img_ap.resize((image_w_ap, image_h_ap))\n",
        "        data_ap = np.asarray(img_ap)\n",
        "\n",
        "        X_ap.append(data_ap)\n",
        "        y_ap.append(label_ap)\n",
        "\n",
        "        if i % 700 == 0:\n",
        "            print(cat_ap, \" : \", f_ap)\n",
        "\n",
        "X_ap = np.array(X_ap)\n",
        "y_ap= np.array(y_ap)\n",
        "#1 0 0 0 이면 airplanes\n",
        "#0 1 0 0 이면 buddha 이런식\n",
        "\n",
        "\n",
        "X_train_ap, X_test_ap, y_train_ap, y_test_ap = train_test_split(X_ap, y_ap)\n",
        "xy_ap= (X_train_ap, X_test_ap, y_train_ap, y_test_ap)\n",
        "np.save(\"/content/drive/My Drive/numpy_data/multi_image_data_AnP.npy\", xy_ap)\n",
        "\n",
        "print(\"ok\", len(y_ap))"
      ],
      "execution_count": null,
      "outputs": [
        {
          "output_type": "stream",
          "text": [
            "animals  파일 길이 :  108\n",
            "animals  :  /content/drive/My Drive/multi_img_data/imgs_others/train/animals/elephant19.jpg\n",
            "plants  파일 길이 :  108\n",
            "plants  :  /content/drive/My Drive/multi_img_data/imgs_others/train/plants/forsythia1.jpg\n",
            "ok 216\n"
          ],
          "name": "stdout"
        }
      ]
    },
    {
      "cell_type": "code",
      "metadata": {
        "id": "jijAcU2UgtIG",
        "colab_type": "code",
        "colab": {
          "base_uri": "https://localhost:8080/",
          "height": 53
        },
        "outputId": "95c9a260-e60f-400f-8a2e-228ee9a3d680"
      },
      "source": [
        "\n",
        "import os, glob, numpy as np\n",
        "from keras.models import Sequential\n",
        "from keras.layers import Conv2D, MaxPooling2D, Dense, Flatten, Dropout\n",
        "from keras.callbacks import EarlyStopping, ModelCheckpoint\n",
        "import matplotlib.pyplot as plt\n",
        "import keras.backend.tensorflow_backend as K\n",
        "\n",
        "import tensorflow as tf\n",
        "config_ap = tf.ConfigProto()\n",
        "config_ap.gpu_options.allow_growth = True\n",
        "session = tf.Session(config=config_ap)\n",
        "\n",
        "X_train_ap, X_test_ap, y_train_ap, y_test_ap = np.load('/content/drive/My Drive/numpy_data/multi_image_data_AnP.npy',allow_pickle=True)\n",
        "print(X_train_ap.shape)\n",
        "print(X_train_ap.shape[0])"
      ],
      "execution_count": null,
      "outputs": [
        {
          "output_type": "stream",
          "text": [
            "(162, 64, 64, 3)\n",
            "162\n"
          ],
          "name": "stdout"
        }
      ]
    },
    {
      "cell_type": "code",
      "metadata": {
        "id": "K0U7E_DFg8oY",
        "colab_type": "code",
        "colab": {}
      },
      "source": [
        "categories_ap = [\"animals\",\"plants\"]\n",
        "nb_classes_ap = len(categories_ap)\n",
        "\n",
        "#일반화\n",
        "X_train_ap = X_train_ap.astype(float) / 255\n",
        "X_test_ap = X_test_ap.astype(float) / 255"
      ],
      "execution_count": null,
      "outputs": []
    },
    {
      "cell_type": "code",
      "metadata": {
        "id": "Fs1JdXqwg9RE",
        "colab_type": "code",
        "colab": {}
      },
      "source": [
        "with K.tf_ops.device('/device:GPU:0'):\n",
        "    model_ap = Sequential()\n",
        "    model_ap.add(Conv2D(32, (3,3), padding=\"same\", input_shape=X_train_ap.shape[1:], activation='relu'))\n",
        "    model_ap.add(MaxPooling2D(pool_size=(2,2)))\n",
        "    model_ap.add(Dropout(0.25))\n",
        "    \n",
        "    model_ap.add(Conv2D(64, (3,3), padding=\"same\", activation='relu'))\n",
        "    model_ap.add(MaxPooling2D(pool_size=(2,2)))\n",
        "    model_ap.add(Dropout(0.25))\n",
        "    \n",
        "    model_ap.add(Flatten())\n",
        "    model_ap.add(Dense(256, activation='relu'))\n",
        "    model_ap.add(Dropout(0.5))\n",
        "    model_ap.add(Dense(nb_classes_ap, activation='softmax'))\n",
        "    model_ap.compile(loss='categorical_crossentropy', optimizer='adam', metrics=['accuracy'])\n",
        "    model_dir_ap = './model'\n",
        "    \n",
        "    if not os.path.exists(model_dir_ap):\n",
        "        os.mkdir(model_dir_ap)\n",
        "    \n",
        "    model_path_ap = model_dir_ap + '/multi_img_classification.model'\n",
        "    checkpoint = ModelCheckpoint(filepath=model_path_ap , monitor='val_loss', verbose=1, save_best_only=True)\n",
        "    early_stopping = EarlyStopping(monitor='val_loss', patience=6)"
      ],
      "execution_count": null,
      "outputs": []
    },
    {
      "cell_type": "code",
      "metadata": {
        "id": "Hf5Fo2wuhB9-",
        "colab_type": "code",
        "colab": {
          "base_uri": "https://localhost:8080/",
          "height": 521
        },
        "outputId": "49497760-6ceb-4296-d5a2-7180e527e74a"
      },
      "source": [
        "model_ap.summary()\n"
      ],
      "execution_count": null,
      "outputs": [
        {
          "output_type": "stream",
          "text": [
            "Model: \"sequential_3\"\n",
            "_________________________________________________________________\n",
            "Layer (type)                 Output Shape              Param #   \n",
            "=================================================================\n",
            "conv2d_5 (Conv2D)            (None, 64, 64, 32)        896       \n",
            "_________________________________________________________________\n",
            "max_pooling2d_5 (MaxPooling2 (None, 32, 32, 32)        0         \n",
            "_________________________________________________________________\n",
            "dropout_7 (Dropout)          (None, 32, 32, 32)        0         \n",
            "_________________________________________________________________\n",
            "conv2d_6 (Conv2D)            (None, 32, 32, 64)        18496     \n",
            "_________________________________________________________________\n",
            "max_pooling2d_6 (MaxPooling2 (None, 16, 16, 64)        0         \n",
            "_________________________________________________________________\n",
            "dropout_8 (Dropout)          (None, 16, 16, 64)        0         \n",
            "_________________________________________________________________\n",
            "flatten_3 (Flatten)          (None, 16384)             0         \n",
            "_________________________________________________________________\n",
            "dense_5 (Dense)              (None, 256)               4194560   \n",
            "_________________________________________________________________\n",
            "dropout_9 (Dropout)          (None, 256)               0         \n",
            "_________________________________________________________________\n",
            "dense_6 (Dense)              (None, 2)                 514       \n",
            "=================================================================\n",
            "Total params: 4,214,466\n",
            "Trainable params: 4,214,466\n",
            "Non-trainable params: 0\n",
            "_________________________________________________________________\n"
          ],
          "name": "stdout"
        }
      ]
    },
    {
      "cell_type": "code",
      "metadata": {
        "id": "2hRu9Y-yhDmg",
        "colab_type": "code",
        "colab": {
          "base_uri": "https://localhost:8080/",
          "height": 1000
        },
        "outputId": "bf86a3b4-c5e8-4ac0-ab59-2f107c959aa9"
      },
      "source": [
        "#데이터셋이 적어서 validation을 그냥 test 데이터로 했습니다. \n",
        "#데이터셋이 충분하시면 이렇게 하시지 마시고 validation_split=0.2 이렇게 하셔서 테스트 셋으로 나누시길 권장합니다.\n",
        "\n",
        "history_ap = model_ap.fit(X_train_ap, y_train_ap, batch_size=32, epochs=50, validation_data=(X_test_ap, y_test_ap), callbacks=[checkpoint, early_stopping])"
      ],
      "execution_count": null,
      "outputs": [
        {
          "output_type": "stream",
          "text": [
            "Train on 162 samples, validate on 54 samples\n",
            "Epoch 1/50\n",
            "162/162 [==============================] - 1s 6ms/step - loss: 1.6911 - acc: 0.5062 - val_loss: 0.6788 - val_acc: 0.5185\n",
            "\n",
            "Epoch 00001: val_loss improved from inf to 0.67882, saving model to ./model/multi_img_classification.model\n",
            "Epoch 2/50\n",
            "162/162 [==============================] - 0s 438us/step - loss: 0.7126 - acc: 0.5679 - val_loss: 0.6851 - val_acc: 0.6481\n",
            "\n",
            "Epoch 00002: val_loss did not improve from 0.67882\n",
            "Epoch 3/50\n",
            "162/162 [==============================] - 0s 508us/step - loss: 0.6875 - acc: 0.5000 - val_loss: 0.6592 - val_acc: 0.5556\n",
            "\n",
            "Epoch 00003: val_loss improved from 0.67882 to 0.65924, saving model to ./model/multi_img_classification.model\n",
            "Epoch 4/50\n",
            "162/162 [==============================] - 0s 476us/step - loss: 0.6431 - acc: 0.4753 - val_loss: 0.6554 - val_acc: 0.7963\n",
            "\n",
            "Epoch 00004: val_loss improved from 0.65924 to 0.65538, saving model to ./model/multi_img_classification.model\n",
            "Epoch 5/50\n",
            "162/162 [==============================] - 0s 550us/step - loss: 0.6115 - acc: 0.6296 - val_loss: 0.6370 - val_acc: 0.7778\n",
            "\n",
            "Epoch 00005: val_loss improved from 0.65538 to 0.63696, saving model to ./model/multi_img_classification.model\n",
            "Epoch 6/50\n",
            "162/162 [==============================] - 0s 564us/step - loss: 0.5825 - acc: 0.6543 - val_loss: 0.6233 - val_acc: 0.7963\n",
            "\n",
            "Epoch 00006: val_loss improved from 0.63696 to 0.62331, saving model to ./model/multi_img_classification.model\n",
            "Epoch 7/50\n",
            "162/162 [==============================] - 0s 514us/step - loss: 0.5219 - acc: 0.7593 - val_loss: 0.5481 - val_acc: 0.8333\n",
            "\n",
            "Epoch 00007: val_loss improved from 0.62331 to 0.54812, saving model to ./model/multi_img_classification.model\n",
            "Epoch 8/50\n",
            "162/162 [==============================] - 0s 455us/step - loss: 0.4097 - acc: 0.8148 - val_loss: 0.3725 - val_acc: 0.8333\n",
            "\n",
            "Epoch 00008: val_loss improved from 0.54812 to 0.37247, saving model to ./model/multi_img_classification.model\n",
            "Epoch 9/50\n",
            "162/162 [==============================] - 0s 464us/step - loss: 0.4082 - acc: 0.8086 - val_loss: 0.5835 - val_acc: 0.7407\n",
            "\n",
            "Epoch 00009: val_loss did not improve from 0.37247\n",
            "Epoch 10/50\n",
            "162/162 [==============================] - 0s 446us/step - loss: 0.3125 - acc: 0.8765 - val_loss: 0.4116 - val_acc: 0.7963\n",
            "\n",
            "Epoch 00010: val_loss did not improve from 0.37247\n",
            "Epoch 11/50\n",
            "162/162 [==============================] - 0s 456us/step - loss: 0.2168 - acc: 0.9506 - val_loss: 0.3344 - val_acc: 0.8704\n",
            "\n",
            "Epoch 00011: val_loss improved from 0.37247 to 0.33442, saving model to ./model/multi_img_classification.model\n",
            "Epoch 12/50\n",
            "162/162 [==============================] - 0s 469us/step - loss: 0.1620 - acc: 0.9753 - val_loss: 0.3241 - val_acc: 0.8704\n",
            "\n",
            "Epoch 00012: val_loss improved from 0.33442 to 0.32413, saving model to ./model/multi_img_classification.model\n",
            "Epoch 13/50\n",
            "162/162 [==============================] - 0s 475us/step - loss: 0.1077 - acc: 0.9691 - val_loss: 0.3378 - val_acc: 0.8704\n",
            "\n",
            "Epoch 00013: val_loss did not improve from 0.32413\n",
            "Epoch 14/50\n",
            "162/162 [==============================] - 0s 441us/step - loss: 0.1181 - acc: 0.9630 - val_loss: 0.2882 - val_acc: 0.9074\n",
            "\n",
            "Epoch 00014: val_loss improved from 0.32413 to 0.28821, saving model to ./model/multi_img_classification.model\n",
            "Epoch 15/50\n",
            "162/162 [==============================] - 0s 432us/step - loss: 0.0766 - acc: 0.9815 - val_loss: 0.4733 - val_acc: 0.8333\n",
            "\n",
            "Epoch 00015: val_loss did not improve from 0.28821\n",
            "Epoch 16/50\n",
            "162/162 [==============================] - 0s 490us/step - loss: 0.0964 - acc: 0.9630 - val_loss: 0.1772 - val_acc: 0.9259\n",
            "\n",
            "Epoch 00016: val_loss improved from 0.28821 to 0.17717, saving model to ./model/multi_img_classification.model\n",
            "Epoch 17/50\n",
            "162/162 [==============================] - 0s 469us/step - loss: 0.0659 - acc: 0.9877 - val_loss: 0.4044 - val_acc: 0.8519\n",
            "\n",
            "Epoch 00017: val_loss did not improve from 0.17717\n",
            "Epoch 18/50\n",
            "162/162 [==============================] - 0s 438us/step - loss: 0.0790 - acc: 0.9877 - val_loss: 0.2434 - val_acc: 0.9074\n",
            "\n",
            "Epoch 00018: val_loss did not improve from 0.17717\n",
            "Epoch 19/50\n",
            "162/162 [==============================] - 0s 461us/step - loss: 0.0612 - acc: 0.9753 - val_loss: 0.3589 - val_acc: 0.8889\n",
            "\n",
            "Epoch 00019: val_loss did not improve from 0.17717\n",
            "Epoch 20/50\n",
            "162/162 [==============================] - 0s 454us/step - loss: 0.0381 - acc: 0.9938 - val_loss: 0.1953 - val_acc: 0.9259\n",
            "\n",
            "Epoch 00020: val_loss did not improve from 0.17717\n",
            "Epoch 21/50\n",
            "162/162 [==============================] - 0s 435us/step - loss: 0.0360 - acc: 0.9938 - val_loss: 0.4629 - val_acc: 0.8333\n",
            "\n",
            "Epoch 00021: val_loss did not improve from 0.17717\n",
            "Epoch 22/50\n",
            "162/162 [==============================] - 0s 442us/step - loss: 0.0352 - acc: 0.9877 - val_loss: 0.2304 - val_acc: 0.9259\n",
            "\n",
            "Epoch 00022: val_loss did not improve from 0.17717\n"
          ],
          "name": "stdout"
        }
      ]
    },
    {
      "cell_type": "code",
      "metadata": {
        "id": "RuBJtqYphFXG",
        "colab_type": "code",
        "colab": {
          "base_uri": "https://localhost:8080/",
          "height": 53
        },
        "outputId": "eb838c33-7225-46f2-8c2b-53c08184a06d"
      },
      "source": [
        "print(\"정확도 : %.4f\" % (model_ap.evaluate(X_test_ap, y_test_ap)[1]))\n"
      ],
      "execution_count": null,
      "outputs": [
        {
          "output_type": "stream",
          "text": [
            "54/54 [==============================] - 0s 300us/step\n",
            "정확도 : 0.9259\n"
          ],
          "name": "stdout"
        }
      ]
    },
    {
      "cell_type": "code",
      "metadata": {
        "id": "O2A6XY-6hGgP",
        "colab_type": "code",
        "colab": {
          "base_uri": "https://localhost:8080/",
          "height": 280
        },
        "outputId": "dc57b406-c846-48e7-e4e0-52f8ea4815f9"
      },
      "source": [
        "y_vloss_ap = history_ap.history['val_loss']\n",
        "y_loss_ap = history_ap.history['loss']\n",
        "\n",
        "x_len_ap = np.arange(len(y_loss_ap))\n",
        "\n",
        "plt.plot(x_len_ap, y_vloss_ap, marker='.', c='red', label='val_set_loss')\n",
        "plt.plot(x_len_ap, y_loss_ap, marker='.', c='blue', label='train_set_oss')\n",
        "plt.legend()\n",
        "plt.xlabel('epochs')\n",
        "plt.ylabel('loss')\n",
        "plt.grid()\n",
        "plt.show()"
      ],
      "execution_count": null,
      "outputs": [
        {
          "output_type": "display_data",
          "data": {
            "image/png": "[encoded data removed]",
            "text/plain": [
              "<Figure size 432x288 with 1 Axes>"
            ]
          },
          "metadata": {
            "tags": []
          }
        }
      ]
    },
    {
      "cell_type": "code",
      "metadata": {
        "id": "faLvxh6khIKF",
        "colab_type": "code",
        "colab": {
          "base_uri": "https://localhost:8080/",
          "height": 1000
        },
        "outputId": "6cc32720-45fc-4072-f549-1a6b382a7f7f"
      },
      "source": [
        "from PIL import Image\n",
        "import os, glob, numpy as np\n",
        "from keras.models import load_model\n",
        "\n",
        "caltech_dir_ap = \"/content/drive/My Drive/multi_img_data/imgs_others_test\"\n",
        "image_w_ap = 64\n",
        "image_h_ap = 64\n",
        "\n",
        "pixels_ap = image_h_ap * image_w_ap * 3\n",
        "\n",
        "X_ap = []\n",
        "filenames_ap = []\n",
        "files_ap = glob.glob(caltech_dir_ap+\"/*.*\")\n",
        "for i, f_ap in enumerate(files_ap):\n",
        "    img_ap = Image.open(f_ap)\n",
        "    img_ap = img_ap.convert(\"RGB\")\n",
        "    img_ap= img_ap.resize((image_w_ap, image_h_ap))\n",
        "    data_ap = np.asarray(img_ap)\n",
        "    filenames_ap.append(f_ap)\n",
        "    X_ap.append(data_ap)\n",
        "\n",
        "X_ap = np.array(X_ap)\n",
        "model_ap = load_model('./model/multi_img_classification.model')\n",
        "\n",
        "prediction_ap = model_ap.predict(X_ap)\n",
        "np.set_printoptions(formatter={'float': lambda x: \"{0:0.3f}\".format(x)})\n",
        "cnt = 0\n",
        "\n",
        "#이 비교는 그냥 파일들이 있으면 해당 파일과 비교. 카테고리와 함께 비교해서 진행하는 것은 _4 파일.\n",
        "for i in prediction_ap:\n",
        "    pre_ans_ap = i.argmax()  # 예측 레이블\n",
        "    print(i)\n",
        "    print(pre_ans_ap)\n",
        "    pre_ans_str_ap = ''\n",
        "    if pre_ans_ap == 0: pre_ans_str_ap = \"동물\"\n",
        "    else: pre_ans_str_ap = \"식물\"\n",
        "    if i[0] >= 0.8 : print(\"해당 \"+filenames_ap[cnt].split(\"\\\\\")[0]+\"이미지는 \"+pre_ans_str_ap+\"로 추정됩니다.\")\n",
        "    if i[1] >= 0.8 : print(\"해당 \"+filenames_ap[cnt].split(\"\\\\\")[0]+\"이미지는 \"+pre_ans_str_ap+\"으로 추정됩니다.\")\n",
        "    cnt += 1\n",
        "    # print(i.argmax()) #얘가 레이블 [1. 0. 0.] 이런식으로 되어 있는 것을 숫자로 바꿔주는 것.\n",
        "    # 즉 얘랑, 나중에 카테고리 데이터 불러와서 카테고리랑 비교를 해서 같으면 맞는거고, 아니면 틀린거로 취급하면 된다.\n",
        "    # 이걸 한 것은 _4.py에."
      ],
      "execution_count": null,
      "outputs": [
        {
          "output_type": "stream",
          "text": [
            "[0.000 1.000]\n",
            "1\n",
            "해당 /content/drive/My Drive/multi_img_data/imgs_others_test/test_lavender_3.jpg이미지는 식물으로 추정됩니다.\n",
            "[0.000 1.000]\n",
            "1\n",
            "해당 /content/drive/My Drive/multi_img_data/imgs_others_test/test_lavender_1.jpg이미지는 식물으로 추정됩니다.\n",
            "[0.000 1.000]\n",
            "1\n",
            "해당 /content/drive/My Drive/multi_img_data/imgs_others_test/test_lavender_2.jpg이미지는 식물으로 추정됩니다.\n",
            "[0.000 1.000]\n",
            "1\n",
            "해당 /content/drive/My Drive/multi_img_data/imgs_others_test/test_lavender_4.jpg이미지는 식물으로 추정됩니다.\n",
            "[0.000 1.000]\n",
            "1\n",
            "해당 /content/drive/My Drive/multi_img_data/imgs_others_test/test_lavender_5.jpg이미지는 식물으로 추정됩니다.\n",
            "[0.000 1.000]\n",
            "1\n",
            "해당 /content/drive/My Drive/multi_img_data/imgs_others_test/test_rose_1.jpg이미지는 식물으로 추정됩니다.\n",
            "[0.000 1.000]\n",
            "1\n",
            "해당 /content/drive/My Drive/multi_img_data/imgs_others_test/test_rose_2.jpg이미지는 식물으로 추정됩니다.\n",
            "[0.000 1.000]\n",
            "1\n",
            "해당 /content/drive/My Drive/multi_img_data/imgs_others_test/test_forsythia_1.jpg이미지는 식물으로 추정됩니다.\n",
            "[0.000 1.000]\n",
            "1\n",
            "해당 /content/drive/My Drive/multi_img_data/imgs_others_test/test_forsythia_2.jpg이미지는 식물으로 추정됩니다.\n",
            "[0.000 1.000]\n",
            "1\n",
            "해당 /content/drive/My Drive/multi_img_data/imgs_others_test/test_forsythia_3.jpg이미지는 식물으로 추정됩니다.\n",
            "[0.000 1.000]\n",
            "1\n",
            "해당 /content/drive/My Drive/multi_img_data/imgs_others_test/test_forsythia_4.jpg이미지는 식물으로 추정됩니다.\n",
            "[0.000 1.000]\n",
            "1\n",
            "해당 /content/drive/My Drive/multi_img_data/imgs_others_test/test_forsythia_5.jpg이미지는 식물으로 추정됩니다.\n",
            "[0.000 1.000]\n",
            "1\n",
            "해당 /content/drive/My Drive/multi_img_data/imgs_others_test/test_rose_3.jpg이미지는 식물으로 추정됩니다.\n",
            "[0.000 1.000]\n",
            "1\n",
            "해당 /content/drive/My Drive/multi_img_data/imgs_others_test/test_rose_4.jpg이미지는 식물으로 추정됩니다.\n",
            "[1.000 0.000]\n",
            "0\n",
            "해당 /content/drive/My Drive/multi_img_data/imgs_others_test/test_elephant1.jpg이미지는 동물로 추정됩니다.\n",
            "[1.000 0.000]\n",
            "0\n",
            "해당 /content/drive/My Drive/multi_img_data/imgs_others_test/test_elephant_2.jpg이미지는 동물로 추정됩니다.\n",
            "[1.000 0.000]\n",
            "0\n",
            "해당 /content/drive/My Drive/multi_img_data/imgs_others_test/test_elephant_3.jpg이미지는 동물로 추정됩니다.\n",
            "[0.000 1.000]\n",
            "1\n",
            "해당 /content/drive/My Drive/multi_img_data/imgs_others_test/test_mugunghwa_1.jpg이미지는 식물으로 추정됩니다.\n",
            "[1.000 0.000]\n",
            "0\n",
            "해당 /content/drive/My Drive/multi_img_data/imgs_others_test/test_rabbit_1.jpg이미지는 동물로 추정됩니다.\n",
            "[1.000 0.000]\n",
            "0\n",
            "해당 /content/drive/My Drive/multi_img_data/imgs_others_test/test_rabbit_2.jpg이미지는 동물로 추정됩니다.\n",
            "[1.000 0.000]\n",
            "0\n",
            "해당 /content/drive/My Drive/multi_img_data/imgs_others_test/test_rabbit_3.jpg이미지는 동물로 추정됩니다.\n",
            "[1.000 0.000]\n",
            "0\n",
            "해당 /content/drive/My Drive/multi_img_data/imgs_others_test/test_giraffe_3.jpg이미지는 동물로 추정됩니다.\n",
            "[1.000 0.000]\n",
            "0\n",
            "해당 /content/drive/My Drive/multi_img_data/imgs_others_test/test_giraffe_2.jpg이미지는 동물로 추정됩니다.\n",
            "[1.000 0.000]\n",
            "0\n",
            "해당 /content/drive/My Drive/multi_img_data/imgs_others_test/test_giraffe_1.jpg이미지는 동물로 추정됩니다.\n",
            "[0.000 1.000]\n",
            "1\n",
            "해당 /content/drive/My Drive/multi_img_data/imgs_others_test/test_tiger_1.jpg이미지는 식물으로 추정됩니다.\n",
            "[1.000 0.000]\n",
            "0\n",
            "해당 /content/drive/My Drive/multi_img_data/imgs_others_test/test_tiger_3.jpg이미지는 동물로 추정됩니다.\n",
            "[0.000 1.000]\n",
            "1\n",
            "해당 /content/drive/My Drive/multi_img_data/imgs_others_test/test_tiger_2.jpg이미지는 식물으로 추정됩니다.\n",
            "[1.000 0.000]\n",
            "0\n",
            "해당 /content/drive/My Drive/multi_img_data/imgs_others_test/test_tiger_4.jpg이미지는 동물로 추정됩니다.\n",
            "[1.000 0.000]\n",
            "0\n",
            "해당 /content/drive/My Drive/multi_img_data/imgs_others_test/test_tiger_5.jpg이미지는 동물로 추정됩니다.\n",
            "[1.000 0.000]\n",
            "0\n",
            "해당 /content/drive/My Drive/multi_img_data/imgs_others_test/test_elephant_4.jpg이미지는 동물로 추정됩니다.\n",
            "[1.000 0.000]\n",
            "0\n",
            "해당 /content/drive/My Drive/multi_img_data/imgs_others_test/test_elephant_5.jpg이미지는 동물로 추정됩니다.\n",
            "[0.000 1.000]\n",
            "1\n",
            "해당 /content/drive/My Drive/multi_img_data/imgs_others_test/test_mugunghwa_2.jpg이미지는 식물으로 추정됩니다.\n",
            "[0.000 1.000]\n",
            "1\n",
            "해당 /content/drive/My Drive/multi_img_data/imgs_others_test/test_mugunghwa_3.jpg이미지는 식물으로 추정됩니다.\n",
            "[0.000 1.000]\n",
            "1\n",
            "해당 /content/drive/My Drive/multi_img_data/imgs_others_test/test_mugunghwa_4.jpg이미지는 식물으로 추정됩니다.\n",
            "[1.000 0.000]\n",
            "0\n",
            "해당 /content/drive/My Drive/multi_img_data/imgs_others_test/test_rabbit_5.jpg이미지는 동물로 추정됩니다.\n",
            "[1.000 0.000]\n",
            "0\n",
            "해당 /content/drive/My Drive/multi_img_data/imgs_others_test/test_rabbit_4.jpg이미지는 동물로 추정됩니다.\n",
            "[0.000 1.000]\n",
            "1\n",
            "해당 /content/drive/My Drive/multi_img_data/imgs_others_test/test_mugunghwa_5.jpg이미지는 식물으로 추정됩니다.\n",
            "[1.000 0.000]\n",
            "0\n",
            "해당 /content/drive/My Drive/multi_img_data/imgs_others_test/test_giraffe_5.jpg이미지는 동물로 추정됩니다.\n",
            "[1.000 0.000]\n",
            "0\n",
            "해당 /content/drive/My Drive/multi_img_data/imgs_others_test/test_giraffe_4.jpg이미지는 동물로 추정됩니다.\n"
          ],
          "name": "stdout"
        }
      ]
    },
    {
      "cell_type": "markdown",
      "metadata": {
        "id": "TC-3JtMtJXrB",
        "colab_type": "text"
      },
      "source": [
        "#동식물의 종류 구별"
      ]
    },
    {
      "cell_type": "code",
      "metadata": {
        "id": "AFS8KjJBJSH5",
        "colab_type": "code",
        "colab": {
          "base_uri": "https://localhost:8080/",
          "height": 323
        },
        "outputId": "7b4cf420-df9d-4148-83c9-8ec5bcd42036"
      },
      "source": [
        "from PIL import Image\n",
        "import os, glob, numpy as np\n",
        "from sklearn.model_selection import train_test_split\n",
        "\n",
        "caltech_dir = \"/content/drive/My Drive/multi_img_data/imgs_others/train\"\n",
        "categories = [\"rose\", \"forsythia\", \"lavender\", \"mugunghwa\", \"elephant\", \"tiger\", \"giraffe\",\"rabbit\"]\n",
        "nb_classes = len(categories)\n",
        "\n",
        "image_w = 64\n",
        "image_h = 64\n",
        "\n",
        "pixels = image_h * image_w * 3\n",
        "\n",
        "X = []\n",
        "y = []\n",
        "\n",
        "for idx, cat in enumerate(categories):\n",
        "    \n",
        "    #one-hot 돌리기.\n",
        "    label = [0 for i in range(nb_classes)]\n",
        "    label[idx] = 1\n",
        "\n",
        "    image_dir = caltech_dir + \"/\" + cat\n",
        "    files = glob.glob(image_dir+\"/*.jpg\")\n",
        "    print(cat, \" 파일 길이 : \", len(files))\n",
        "    for i, f in enumerate(files):\n",
        "        img = Image.open(f)\n",
        "        img = img.convert(\"RGB\")\n",
        "        img = img.resize((image_w, image_h))\n",
        "        data = np.asarray(img)\n",
        "\n",
        "        X.append(data)\n",
        "        y.append(label)\n",
        "\n",
        "        if i % 700 == 0:\n",
        "            print(cat, \" : \", f)\n",
        "\n",
        "X = np.array(X)\n",
        "y = np.array(y)\n",
        "#1 0 0 0 이면 airplanes\n",
        "#0 1 0 0 이면 buddha 이런식\n",
        "\n",
        "\n",
        "X_train, X_test, y_train, y_test = train_test_split(X, y)\n",
        "xy = (X_train, X_test, y_train, y_test)\n",
        "np.save(\"/content/drive/My Drive/numpy_data/multi_image_data.npy\", xy)\n",
        "\n",
        "print(\"ok\", len(y))"
      ],
      "execution_count": null,
      "outputs": [
        {
          "output_type": "stream",
          "text": [
            "rose  파일 길이 :  27\n",
            "rose  :  /content/drive/My Drive/multi_img_data/imgs_others/train/rose/rose1.jpg\n",
            "forsythia  파일 길이 :  27\n",
            "forsythia  :  /content/drive/My Drive/multi_img_data/imgs_others/train/forsythia/forsythia1.jpg\n",
            "lavender  파일 길이 :  27\n",
            "lavender  :  /content/drive/My Drive/multi_img_data/imgs_others/train/lavender/lv1.jpg\n",
            "mugunghwa  파일 길이 :  27\n",
            "mugunghwa  :  /content/drive/My Drive/multi_img_data/imgs_others/train/mugunghwa/mugunghwa1.jpg\n",
            "elephant  파일 길이 :  27\n",
            "elephant  :  /content/drive/My Drive/multi_img_data/imgs_others/train/elephant/elephant1.jpg\n",
            "tiger  파일 길이 :  27\n",
            "tiger  :  /content/drive/My Drive/multi_img_data/imgs_others/train/tiger/tiger1.jpg\n",
            "giraffe  파일 길이 :  27\n",
            "giraffe  :  /content/drive/My Drive/multi_img_data/imgs_others/train/giraffe/giraffe22.jpg\n",
            "rabbit  파일 길이 :  27\n",
            "rabbit  :  /content/drive/My Drive/multi_img_data/imgs_others/train/rabbit/rabbit24.jpg\n",
            "ok 216\n"
          ],
          "name": "stdout"
        }
      ]
    },
    {
      "cell_type": "code",
      "metadata": {
        "id": "rrHFHw7RJScE",
        "colab_type": "code",
        "colab": {
          "base_uri": "https://localhost:8080/",
          "height": 53
        },
        "outputId": "1b1a9945-5d2d-421a-ac83-5f3c258e61da"
      },
      "source": [
        "\n",
        "import os, glob, numpy as np\n",
        "from keras.models import Sequential\n",
        "from keras.layers import Conv2D, MaxPooling2D, Dense, Flatten, Dropout\n",
        "from keras.callbacks import EarlyStopping, ModelCheckpoint\n",
        "import matplotlib.pyplot as plt\n",
        "import keras.backend.tensorflow_backend as K\n",
        "\n",
        "import tensorflow as tf\n",
        "config = tf.ConfigProto()\n",
        "config.gpu_options.allow_growth = True\n",
        "session = tf.Session(config=config)\n",
        "\n",
        "X_train, X_test, y_train, y_test = np.load('/content/drive/My Drive/numpy_data/multi_image_data.npy',allow_pickle=True)\n",
        "print(X_train.shape)\n",
        "print(X_train.shape[0])"
      ],
      "execution_count": null,
      "outputs": [
        {
          "output_type": "stream",
          "text": [
            "(162, 64, 64, 3)\n",
            "162\n"
          ],
          "name": "stdout"
        }
      ]
    },
    {
      "cell_type": "code",
      "metadata": {
        "id": "lIKzuqb-JSmY",
        "colab_type": "code",
        "colab": {}
      },
      "source": [
        "categories = [\"rose\", \"forsythia\", \"lavender\", \"mugunghwa\", \"elephant\", \"tiger\", \"giraffe\", \"rabbit\"]\n",
        "nb_classes = len(categories)\n",
        "\n",
        "#일반화\n",
        "X_train = X_train.astype(float) / 255\n",
        "X_test = X_test.astype(float) / 255"
      ],
      "execution_count": null,
      "outputs": []
    },
    {
      "cell_type": "code",
      "metadata": {
        "id": "iW4Tny8QJSqa",
        "colab_type": "code",
        "colab": {}
      },
      "source": [
        "with K.tf_ops.device('/device:GPU:0'):\n",
        "    model = Sequential()\n",
        "    model.add(Conv2D(32, (3,3), padding=\"same\", input_shape=X_train.shape[1:], activation='relu'))\n",
        "    model.add(MaxPooling2D(pool_size=(2,2)))\n",
        "    model.add(Dropout(0.25))\n",
        "    \n",
        "    model.add(Conv2D(64, (3,3), padding=\"same\", activation='relu'))\n",
        "    model.add(MaxPooling2D(pool_size=(2,2)))\n",
        "    model.add(Dropout(0.25))\n",
        "    \n",
        "    model.add(Flatten())\n",
        "    model.add(Dense(256, activation='relu'))\n",
        "    model.add(Dropout(0.5))\n",
        "    model.add(Dense(nb_classes, activation='softmax'))\n",
        "    model.compile(loss='categorical_crossentropy', optimizer='adam', metrics=['accuracy'])\n",
        "    model_dir = './model'\n",
        "    \n",
        "    if not os.path.exists(model_dir):\n",
        "        os.mkdir(model_dir)\n",
        "    \n",
        "    model_path = model_dir + '/multi_img_classification.model'\n",
        "    checkpoint = ModelCheckpoint(filepath=model_path , monitor='val_loss', verbose=1, save_best_only=True)\n",
        "    early_stopping = EarlyStopping(monitor='val_loss', patience=6)"
      ],
      "execution_count": null,
      "outputs": []
    },
    {
      "cell_type": "code",
      "metadata": {
        "id": "TMuTP6J8JSvh",
        "colab_type": "code",
        "colab": {
          "base_uri": "https://localhost:8080/",
          "height": 521
        },
        "outputId": "c096e8ee-0f58-4499-d4a5-053356dfc4aa"
      },
      "source": [
        "model.summary()\n"
      ],
      "execution_count": null,
      "outputs": [
        {
          "output_type": "stream",
          "text": [
            "Model: \"sequential_4\"\n",
            "_________________________________________________________________\n",
            "Layer (type)                 Output Shape              Param #   \n",
            "=================================================================\n",
            "conv2d_7 (Conv2D)            (None, 64, 64, 32)        896       \n",
            "_________________________________________________________________\n",
            "max_pooling2d_7 (MaxPooling2 (None, 32, 32, 32)        0         \n",
            "_________________________________________________________________\n",
            "dropout_10 (Dropout)         (None, 32, 32, 32)        0         \n",
            "_________________________________________________________________\n",
            "conv2d_8 (Conv2D)            (None, 32, 32, 64)        18496     \n",
            "_________________________________________________________________\n",
            "max_pooling2d_8 (MaxPooling2 (None, 16, 16, 64)        0         \n",
            "_________________________________________________________________\n",
            "dropout_11 (Dropout)         (None, 16, 16, 64)        0         \n",
            "_________________________________________________________________\n",
            "flatten_4 (Flatten)          (None, 16384)             0         \n",
            "_________________________________________________________________\n",
            "dense_7 (Dense)              (None, 256)               4194560   \n",
            "_________________________________________________________________\n",
            "dropout_12 (Dropout)         (None, 256)               0         \n",
            "_________________________________________________________________\n",
            "dense_8 (Dense)              (None, 8)                 2056      \n",
            "=================================================================\n",
            "Total params: 4,216,008\n",
            "Trainable params: 4,216,008\n",
            "Non-trainable params: 0\n",
            "_________________________________________________________________\n"
          ],
          "name": "stdout"
        }
      ]
    },
    {
      "cell_type": "code",
      "metadata": {
        "id": "A1vvFBqkJS2u",
        "colab_type": "code",
        "colab": {
          "base_uri": "https://localhost:8080/",
          "height": 1000
        },
        "outputId": "f2e18dda-435d-42e4-8bd0-fe746d82d677"
      },
      "source": [
        "#데이터셋이 적어서 validation을 그냥 test 데이터로 했습니다. \n",
        "#데이터셋이 충분하시면 이렇게 하시지 마시고 validation_split=0.2 이렇게 하셔서 테스트 셋으로 나누시길 권장합니다.\n",
        "\n",
        "history = model.fit(X_train, y_train, batch_size=32, epochs=50, validation_data=(X_test, y_test), callbacks=[checkpoint, early_stopping])"
      ],
      "execution_count": null,
      "outputs": [
        {
          "output_type": "stream",
          "text": [
            "Train on 162 samples, validate on 54 samples\n",
            "Epoch 1/50\n",
            "162/162 [==============================] - 1s 7ms/step - loss: 3.6634 - acc: 0.1296 - val_loss: 2.0271 - val_acc: 0.1296\n",
            "\n",
            "Epoch 00001: val_loss improved from inf to 2.02707, saving model to ./model/multi_img_classification.model\n",
            "Epoch 2/50\n",
            "162/162 [==============================] - 0s 426us/step - loss: 2.0863 - acc: 0.1975 - val_loss: 2.0367 - val_acc: 0.2778\n",
            "\n",
            "Epoch 00002: val_loss did not improve from 2.02707\n",
            "Epoch 3/50\n",
            "162/162 [==============================] - 0s 505us/step - loss: 1.9921 - acc: 0.1420 - val_loss: 1.9565 - val_acc: 0.1296\n",
            "\n",
            "Epoch 00003: val_loss improved from 2.02707 to 1.95651, saving model to ./model/multi_img_classification.model\n",
            "Epoch 4/50\n",
            "162/162 [==============================] - 0s 431us/step - loss: 1.8884 - acc: 0.1543 - val_loss: 1.8658 - val_acc: 0.3519\n",
            "\n",
            "Epoch 00004: val_loss improved from 1.95651 to 1.86577, saving model to ./model/multi_img_classification.model\n",
            "Epoch 5/50\n",
            "162/162 [==============================] - 0s 551us/step - loss: 1.7755 - acc: 0.3642 - val_loss: 1.7190 - val_acc: 0.4444\n",
            "\n",
            "Epoch 00005: val_loss improved from 1.86577 to 1.71902, saving model to ./model/multi_img_classification.model\n",
            "Epoch 6/50\n",
            "162/162 [==============================] - 0s 456us/step - loss: 1.6522 - acc: 0.3704 - val_loss: 1.5617 - val_acc: 0.4259\n",
            "\n",
            "Epoch 00006: val_loss improved from 1.71902 to 1.56172, saving model to ./model/multi_img_classification.model\n",
            "Epoch 7/50\n",
            "162/162 [==============================] - 0s 467us/step - loss: 1.5153 - acc: 0.4198 - val_loss: 1.4748 - val_acc: 0.5000\n",
            "\n",
            "Epoch 00007: val_loss improved from 1.56172 to 1.47482, saving model to ./model/multi_img_classification.model\n",
            "Epoch 8/50\n",
            "162/162 [==============================] - 0s 467us/step - loss: 1.3826 - acc: 0.5062 - val_loss: 1.3807 - val_acc: 0.4815\n",
            "\n",
            "Epoch 00008: val_loss improved from 1.47482 to 1.38075, saving model to ./model/multi_img_classification.model\n",
            "Epoch 9/50\n",
            "162/162 [==============================] - 0s 423us/step - loss: 1.2557 - acc: 0.6049 - val_loss: 1.1406 - val_acc: 0.7222\n",
            "\n",
            "Epoch 00009: val_loss improved from 1.38075 to 1.14059, saving model to ./model/multi_img_classification.model\n",
            "Epoch 10/50\n",
            "162/162 [==============================] - 0s 473us/step - loss: 1.2076 - acc: 0.5185 - val_loss: 0.9396 - val_acc: 0.8333\n",
            "\n",
            "Epoch 00010: val_loss improved from 1.14059 to 0.93961, saving model to ./model/multi_img_classification.model\n",
            "Epoch 11/50\n",
            "162/162 [==============================] - 0s 436us/step - loss: 0.9763 - acc: 0.7037 - val_loss: 1.0676 - val_acc: 0.5926\n",
            "\n",
            "Epoch 00011: val_loss did not improve from 0.93961\n",
            "Epoch 12/50\n",
            "162/162 [==============================] - 0s 441us/step - loss: 0.9414 - acc: 0.6667 - val_loss: 0.7745 - val_acc: 0.7407\n",
            "\n",
            "Epoch 00012: val_loss improved from 0.93961 to 0.77453, saving model to ./model/multi_img_classification.model\n",
            "Epoch 13/50\n",
            "162/162 [==============================] - 0s 529us/step - loss: 0.8291 - acc: 0.7346 - val_loss: 0.7191 - val_acc: 0.7593\n",
            "\n",
            "Epoch 00013: val_loss improved from 0.77453 to 0.71906, saving model to ./model/multi_img_classification.model\n",
            "Epoch 14/50\n",
            "162/162 [==============================] - 0s 581us/step - loss: 0.7533 - acc: 0.7346 - val_loss: 0.5836 - val_acc: 0.8889\n",
            "\n",
            "Epoch 00014: val_loss improved from 0.71906 to 0.58356, saving model to ./model/multi_img_classification.model\n",
            "Epoch 15/50\n",
            "162/162 [==============================] - 0s 512us/step - loss: 0.7110 - acc: 0.7407 - val_loss: 0.7009 - val_acc: 0.7778\n",
            "\n",
            "Epoch 00015: val_loss did not improve from 0.58356\n",
            "Epoch 16/50\n",
            "162/162 [==============================] - 0s 569us/step - loss: 0.7088 - acc: 0.7654 - val_loss: 0.6545 - val_acc: 0.8148\n",
            "\n",
            "Epoch 00016: val_loss did not improve from 0.58356\n",
            "Epoch 17/50\n",
            "162/162 [==============================] - 0s 483us/step - loss: 0.6398 - acc: 0.8025 - val_loss: 0.6138 - val_acc: 0.8704\n",
            "\n",
            "Epoch 00017: val_loss did not improve from 0.58356\n",
            "Epoch 18/50\n",
            "162/162 [==============================] - 0s 598us/step - loss: 0.5170 - acc: 0.8642 - val_loss: 0.4981 - val_acc: 0.8333\n",
            "\n",
            "Epoch 00018: val_loss improved from 0.58356 to 0.49806, saving model to ./model/multi_img_classification.model\n",
            "Epoch 19/50\n",
            "162/162 [==============================] - 0s 451us/step - loss: 0.4432 - acc: 0.8519 - val_loss: 0.4914 - val_acc: 0.8519\n",
            "\n",
            "Epoch 00019: val_loss improved from 0.49806 to 0.49140, saving model to ./model/multi_img_classification.model\n",
            "Epoch 20/50\n",
            "162/162 [==============================] - 0s 426us/step - loss: 0.3550 - acc: 0.8889 - val_loss: 0.3867 - val_acc: 0.8519\n",
            "\n",
            "Epoch 00020: val_loss improved from 0.49140 to 0.38668, saving model to ./model/multi_img_classification.model\n",
            "Epoch 21/50\n",
            "162/162 [==============================] - 0s 629us/step - loss: 0.3047 - acc: 0.9012 - val_loss: 0.3984 - val_acc: 0.8519\n",
            "\n",
            "Epoch 00021: val_loss did not improve from 0.38668\n",
            "Epoch 22/50\n",
            "162/162 [==============================] - 0s 465us/step - loss: 0.3302 - acc: 0.9074 - val_loss: 0.4703 - val_acc: 0.8333\n",
            "\n",
            "Epoch 00022: val_loss did not improve from 0.38668\n",
            "Epoch 23/50\n",
            "162/162 [==============================] - 0s 475us/step - loss: 0.5037 - acc: 0.7901 - val_loss: 0.4132 - val_acc: 0.8519\n",
            "\n",
            "Epoch 00023: val_loss did not improve from 0.38668\n",
            "Epoch 24/50\n",
            "162/162 [==============================] - 0s 455us/step - loss: 0.4531 - acc: 0.8210 - val_loss: 0.5254 - val_acc: 0.8519\n",
            "\n",
            "Epoch 00024: val_loss did not improve from 0.38668\n",
            "Epoch 25/50\n",
            "162/162 [==============================] - 0s 399us/step - loss: 0.2953 - acc: 0.9198 - val_loss: 0.4781 - val_acc: 0.8519\n",
            "\n",
            "Epoch 00025: val_loss did not improve from 0.38668\n",
            "Epoch 26/50\n",
            "162/162 [==============================] - 0s 399us/step - loss: 0.3168 - acc: 0.9198 - val_loss: 0.4312 - val_acc: 0.8519\n",
            "\n",
            "Epoch 00026: val_loss did not improve from 0.38668\n"
          ],
          "name": "stdout"
        }
      ]
    },
    {
      "cell_type": "code",
      "metadata": {
        "id": "VHVwUFA5JS9k",
        "colab_type": "code",
        "colab": {
          "base_uri": "https://localhost:8080/",
          "height": 53
        },
        "outputId": "56ee7376-4baf-4a7b-b125-7432ad7da2cc"
      },
      "source": [
        "print(\"정확도 : %.4f\" % (model.evaluate(X_test, y_test)[1]))\n"
      ],
      "execution_count": null,
      "outputs": [
        {
          "output_type": "stream",
          "text": [
            "54/54 [==============================] - 0s 290us/step\n",
            "정확도 : 0.8519\n"
          ],
          "name": "stdout"
        }
      ]
    },
    {
      "cell_type": "code",
      "metadata": {
        "id": "27pcWlxJJTA_",
        "colab_type": "code",
        "colab": {
          "base_uri": "https://localhost:8080/",
          "height": 279
        },
        "outputId": "a38a3180-c643-48c6-e405-bfa286cc1a85"
      },
      "source": [
        "y_vloss = history.history['val_loss']\n",
        "y_loss = history.history['loss']\n",
        "\n",
        "x_len = np.arange(len(y_loss))\n",
        "\n",
        "plt.plot(x_len, y_vloss, marker='.', c='red', label='val_set_loss')\n",
        "plt.plot(x_len, y_loss, marker='.', c='blue', label='train_set_oss')\n",
        "plt.legend()\n",
        "plt.xlabel('epochs')\n",
        "plt.ylabel('loss')\n",
        "plt.grid()\n",
        "plt.show()"
      ],
      "execution_count": null,
      "outputs": [
        {
          "output_type": "display_data",
          "data": {
            "image/png": "[encoded data removed]",
            "text/plain": [
              "<Figure size 432x288 with 1 Axes>"
            ]
          },
          "metadata": {
            "tags": []
          }
        }
      ]
    },
    {
      "cell_type": "code",
      "metadata": {
        "id": "FtIar1cOJS7d",
        "colab_type": "code",
        "colab": {
          "base_uri": "https://localhost:8080/",
          "height": 1000
        },
        "outputId": "03a384a1-5b65-40f8-e5f4-a1e669333666"
      },
      "source": [
        "from PIL import Image\n",
        "import os, glob, numpy as np\n",
        "from keras.models import load_model\n",
        "\n",
        "caltech_dir = \"/content/drive/My Drive/multi_img_data/imgs_others_test\"\n",
        "image_w = 64\n",
        "image_h = 64\n",
        "\n",
        "pixels = image_h * image_w * 3\n",
        "\n",
        "X = []\n",
        "filenames = []\n",
        "files = glob.glob(caltech_dir+\"/*.*\")\n",
        "for i, f in enumerate(files):\n",
        "    img = Image.open(f)\n",
        "    img = img.convert(\"RGB\")\n",
        "    img = img.resize((image_w, image_h))\n",
        "    data = np.asarray(img)\n",
        "    filenames.append(f)\n",
        "    X.append(data)\n",
        "\n",
        "X = np.array(X)\n",
        "model = load_model('./model/multi_img_classification.model')\n",
        "\n",
        "prediction = model.predict(X)\n",
        "np.set_printoptions(formatter={'float': lambda x: \"{0:0.3f}\".format(x)})\n",
        "cnt = 0\n",
        "\n",
        "#이 비교는 그냥 파일들이 있으면 해당 파일과 비교. 카테고리와 함께 비교해서 진행하는 것은 _4 파일.\n",
        "for i in prediction:\n",
        "    pre_ans = i.argmax()  # 예측 레이블\n",
        "    print(i)\n",
        "    print(pre_ans)\n",
        "    pre_ans_str = ''\n",
        "    if pre_ans == 0: pre_ans_str = \"장미\"\n",
        "    elif pre_ans == 1: pre_ans_str = \"개나리\"\n",
        "    elif pre_ans == 2: pre_ans_str = \"라벤더\"\n",
        "    elif pre_ans == 3: pre_ans_str = \"무궁화\"\n",
        "    elif pre_ans == 4: pre_ans_str = \"코끼리\"\n",
        "    elif pre_ans == 5: pre_ans_str = \"호랑이\"\n",
        "    elif pre_ans == 6: pre_ans_str = \"기린\"\n",
        "    else: pre_ans_str = \"토끼\"\n",
        "    if i[0] >= 0.8 : print(\"해당 \"+filenames[cnt].split(\"\\\\\")[0]+\"이미지는 식물 \"+pre_ans_str+\"로 추정됩니다.\")\n",
        "    if i[1] >= 0.8 : print(\"해당 \"+filenames[cnt].split(\"\\\\\")[0]+\"이미지는 식물 \"+pre_ans_str+\"로 추정됩니다.\")\n",
        "    if i[2] >= 0.8 : print(\"해당 \"+filenames[cnt].split(\"\\\\\")[0]+\"이미지는 식물 \"+pre_ans_str+\"로 추정됩니다.\")\n",
        "    if i[3] >= 0.8 : print(\"해당 \"+filenames[cnt].split(\"\\\\\")[0]+\"이미지는 식물 \"+pre_ans_str+\"로 추정됩니다.\")\n",
        "    if i[4] >= 0.8 : print(\"해당 \"+filenames[cnt].split(\"\\\\\")[0]+\"이미지는 동물 \"+pre_ans_str+\"로 추정됩니다.\")\n",
        "    if i[5] >= 0.8 : print(\"해당 \"+filenames[cnt].split(\"\\\\\")[0]+\"이미지는 동물 \"+pre_ans_str+\"로 추정됩니다.\")\n",
        "    if i[6] >= 0.8 : print(\"해당 \"+filenames[cnt].split(\"\\\\\")[0]+\"이미지는 동물 \"+pre_ans_str+\"로 추정됩니다.\")\n",
        "    if i[7] >= 0.8 : print(\"해당 \"+filenames[cnt].split(\"\\\\\")[0]+\"이미지는 동물 \"+pre_ans_str+\"로 추정됩니다.\")    \n",
        "\n",
        "    cnt += 1\n",
        "\n",
        "    # print(i.argmax()) #얘가 레이블 [1. 0. 0.] 이런식으로 되어 있는 것을 숫자로 바꿔주는 것.\n",
        "    # 즉 얘랑, 나중에 카테고리 데이터 불러와서 카테고리랑 비교를 해서 같으면 맞는거고, 아니면 틀린거로 취급하면 된다.\n",
        "    # 이걸 한 것은 _4.py에."
      ],
      "execution_count": null,
      "outputs": [
        {
          "output_type": "stream",
          "text": [
            "[0.000 0.000 1.000 0.000 0.000 0.000 0.000 0.000]\n",
            "2\n",
            "해당 /content/drive/My Drive/multi_img_data/imgs_others_test/test_lavender_3.jpg이미지는 식물 라벤더로 추정됩니다.\n",
            "[0.000 0.000 1.000 0.000 0.000 0.000 0.000 0.000]\n",
            "2\n",
            "해당 /content/drive/My Drive/multi_img_data/imgs_others_test/test_lavender_1.jpg이미지는 식물 라벤더로 추정됩니다.\n",
            "[0.000 0.000 1.000 0.000 0.000 0.000 0.000 0.000]\n",
            "2\n",
            "해당 /content/drive/My Drive/multi_img_data/imgs_others_test/test_lavender_2.jpg이미지는 식물 라벤더로 추정됩니다.\n",
            "[0.000 0.000 1.000 0.000 0.000 0.000 0.000 0.000]\n",
            "2\n",
            "해당 /content/drive/My Drive/multi_img_data/imgs_others_test/test_lavender_4.jpg이미지는 식물 라벤더로 추정됩니다.\n",
            "[0.000 0.000 1.000 0.000 0.000 0.000 0.000 0.000]\n",
            "2\n",
            "해당 /content/drive/My Drive/multi_img_data/imgs_others_test/test_lavender_5.jpg이미지는 식물 라벤더로 추정됩니다.\n",
            "[1.000 0.000 0.000 0.000 0.000 0.000 0.000 0.000]\n",
            "0\n",
            "해당 /content/drive/My Drive/multi_img_data/imgs_others_test/test_rose_1.jpg이미지는 식물 장미로 추정됩니다.\n",
            "[1.000 0.000 0.000 0.000 0.000 0.000 0.000 0.000]\n",
            "0\n",
            "해당 /content/drive/My Drive/multi_img_data/imgs_others_test/test_rose_2.jpg이미지는 식물 장미로 추정됩니다.\n",
            "[0.000 1.000 0.000 0.000 0.000 0.000 0.000 0.000]\n",
            "1\n",
            "해당 /content/drive/My Drive/multi_img_data/imgs_others_test/test_forsythia_1.jpg이미지는 식물 개나리로 추정됩니다.\n",
            "[0.000 1.000 0.000 0.000 0.000 0.000 0.000 0.000]\n",
            "1\n",
            "해당 /content/drive/My Drive/multi_img_data/imgs_others_test/test_forsythia_2.jpg이미지는 식물 개나리로 추정됩니다.\n",
            "[0.000 1.000 0.000 0.000 0.000 0.000 0.000 0.000]\n",
            "1\n",
            "해당 /content/drive/My Drive/multi_img_data/imgs_others_test/test_forsythia_3.jpg이미지는 식물 개나리로 추정됩니다.\n",
            "[0.000 0.000 0.000 0.000 1.000 0.000 0.000 0.000]\n",
            "4\n",
            "해당 /content/drive/My Drive/multi_img_data/imgs_others_test/test_forsythia_4.jpg이미지는 동물 코끼리로 추정됩니다.\n",
            "[0.000 1.000 0.000 0.000 0.000 0.000 0.000 0.000]\n",
            "1\n",
            "해당 /content/drive/My Drive/multi_img_data/imgs_others_test/test_forsythia_5.jpg이미지는 식물 개나리로 추정됩니다.\n",
            "[0.000 0.000 0.000 0.000 0.000 1.000 0.000 0.000]\n",
            "5\n",
            "해당 /content/drive/My Drive/multi_img_data/imgs_others_test/test_rose_3.jpg이미지는 동물 호랑이로 추정됩니다.\n",
            "[1.000 0.000 0.000 0.000 0.000 0.000 0.000 0.000]\n",
            "0\n",
            "해당 /content/drive/My Drive/multi_img_data/imgs_others_test/test_rose_4.jpg이미지는 식물 장미로 추정됩니다.\n",
            "[0.000 0.000 0.000 0.000 1.000 0.000 0.000 0.000]\n",
            "4\n",
            "해당 /content/drive/My Drive/multi_img_data/imgs_others_test/test_elephant1.jpg이미지는 동물 코끼리로 추정됩니다.\n",
            "[0.000 0.000 0.000 0.000 1.000 0.000 0.000 0.000]\n",
            "4\n",
            "해당 /content/drive/My Drive/multi_img_data/imgs_others_test/test_elephant_2.jpg이미지는 동물 코끼리로 추정됩니다.\n",
            "[0.000 0.000 0.000 0.000 0.000 0.000 0.000 1.000]\n",
            "7\n",
            "해당 /content/drive/My Drive/multi_img_data/imgs_others_test/test_elephant_3.jpg이미지는 동물 토끼로 추정됩니다.\n",
            "[0.000 0.000 1.000 0.000 0.000 0.000 0.000 0.000]\n",
            "2\n",
            "해당 /content/drive/My Drive/multi_img_data/imgs_others_test/test_mugunghwa_1.jpg이미지는 식물 라벤더로 추정됩니다.\n",
            "[0.000 0.000 0.000 0.000 0.000 0.000 0.000 1.000]\n",
            "7\n",
            "해당 /content/drive/My Drive/multi_img_data/imgs_others_test/test_rabbit_1.jpg이미지는 동물 토끼로 추정됩니다.\n",
            "[0.000 0.000 0.000 0.000 0.000 0.000 0.000 1.000]\n",
            "7\n",
            "해당 /content/drive/My Drive/multi_img_data/imgs_others_test/test_rabbit_2.jpg이미지는 동물 토끼로 추정됩니다.\n",
            "[0.000 0.000 0.000 0.000 0.000 0.000 0.000 1.000]\n",
            "7\n",
            "해당 /content/drive/My Drive/multi_img_data/imgs_others_test/test_rabbit_3.jpg이미지는 동물 토끼로 추정됩니다.\n",
            "[0.000 0.000 0.000 0.000 0.000 0.000 1.000 0.000]\n",
            "6\n",
            "해당 /content/drive/My Drive/multi_img_data/imgs_others_test/test_giraffe_3.jpg이미지는 동물 기린로 추정됩니다.\n",
            "[0.000 0.000 0.000 0.000 1.000 0.000 0.000 0.000]\n",
            "4\n",
            "해당 /content/drive/My Drive/multi_img_data/imgs_others_test/test_giraffe_2.jpg이미지는 동물 코끼리로 추정됩니다.\n",
            "[0.000 0.000 0.000 0.000 0.000 1.000 0.000 0.000]\n",
            "5\n",
            "해당 /content/drive/My Drive/multi_img_data/imgs_others_test/test_giraffe_1.jpg이미지는 동물 호랑이로 추정됩니다.\n",
            "[0.000 0.000 0.000 0.000 0.000 1.000 0.000 0.000]\n",
            "5\n",
            "해당 /content/drive/My Drive/multi_img_data/imgs_others_test/test_tiger_1.jpg이미지는 동물 호랑이로 추정됩니다.\n",
            "[0.000 1.000 0.000 0.000 0.000 0.000 0.000 0.000]\n",
            "1\n",
            "해당 /content/drive/My Drive/multi_img_data/imgs_others_test/test_tiger_3.jpg이미지는 식물 개나리로 추정됩니다.\n",
            "[0.000 0.000 0.000 0.000 0.000 1.000 0.000 0.000]\n",
            "5\n",
            "해당 /content/drive/My Drive/multi_img_data/imgs_others_test/test_tiger_2.jpg이미지는 동물 호랑이로 추정됩니다.\n",
            "[0.000 0.000 0.000 0.000 0.000 1.000 0.000 0.000]\n",
            "5\n",
            "해당 /content/drive/My Drive/multi_img_data/imgs_others_test/test_tiger_4.jpg이미지는 동물 호랑이로 추정됩니다.\n",
            "[0.000 0.000 0.000 0.000 1.000 0.000 0.000 0.000]\n",
            "4\n",
            "해당 /content/drive/My Drive/multi_img_data/imgs_others_test/test_tiger_5.jpg이미지는 동물 코끼리로 추정됩니다.\n",
            "[0.000 0.000 0.000 0.000 0.000 0.000 0.000 1.000]\n",
            "7\n",
            "해당 /content/drive/My Drive/multi_img_data/imgs_others_test/test_elephant_4.jpg이미지는 동물 토끼로 추정됩니다.\n",
            "[0.000 0.000 0.000 0.000 1.000 0.000 0.000 0.000]\n",
            "4\n",
            "해당 /content/drive/My Drive/multi_img_data/imgs_others_test/test_elephant_5.jpg이미지는 동물 코끼리로 추정됩니다.\n",
            "[0.000 0.000 0.000 1.000 0.000 0.000 0.000 0.000]\n",
            "3\n",
            "해당 /content/drive/My Drive/multi_img_data/imgs_others_test/test_mugunghwa_2.jpg이미지는 식물 무궁화로 추정됩니다.\n",
            "[0.000 0.000 0.000 1.000 0.000 0.000 0.000 0.000]\n",
            "3\n",
            "해당 /content/drive/My Drive/multi_img_data/imgs_others_test/test_mugunghwa_3.jpg이미지는 식물 무궁화로 추정됩니다.\n",
            "[0.000 0.000 0.000 0.000 0.000 0.000 0.000 1.000]\n",
            "7\n",
            "해당 /content/drive/My Drive/multi_img_data/imgs_others_test/test_mugunghwa_4.jpg이미지는 동물 토끼로 추정됩니다.\n",
            "[0.000 0.000 0.000 0.000 0.000 0.000 0.000 1.000]\n",
            "7\n",
            "해당 /content/drive/My Drive/multi_img_data/imgs_others_test/test_rabbit_5.jpg이미지는 동물 토끼로 추정됩니다.\n",
            "[0.000 0.000 0.000 0.000 0.000 0.000 0.000 1.000]\n",
            "7\n",
            "해당 /content/drive/My Drive/multi_img_data/imgs_others_test/test_rabbit_4.jpg이미지는 동물 토끼로 추정됩니다.\n",
            "[0.000 0.000 0.000 1.000 0.000 0.000 0.000 0.000]\n",
            "3\n",
            "해당 /content/drive/My Drive/multi_img_data/imgs_others_test/test_mugunghwa_5.jpg이미지는 식물 무궁화로 추정됩니다.\n",
            "[0.000 0.000 0.000 0.000 0.000 0.000 1.000 0.000]\n",
            "6\n",
            "해당 /content/drive/My Drive/multi_img_data/imgs_others_test/test_giraffe_5.jpg이미지는 동물 기린로 추정됩니다.\n",
            "[0.000 0.000 0.000 0.000 0.000 0.000 1.000 0.000]\n",
            "6\n",
            "해당 /content/drive/My Drive/multi_img_data/imgs_others_test/test_giraffe_4.jpg이미지는 동물 기린로 추정됩니다.\n"
          ],
          "name": "stdout"
        }
      ]
    }
  ]
}